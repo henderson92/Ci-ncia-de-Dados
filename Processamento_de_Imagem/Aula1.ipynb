{
 "cells": [
  {
   "cell_type": "code",
   "execution_count": null,
   "metadata": {},
   "outputs": [],
   "source": [
    "1 - # coding = utf-8\n",
    "A = ([[1, 2, 3, 4, 5],\n",
    "      [1, 1, 2, 3, 1],\n",
    "      [2, 2, 3, 2, 2],\n",
    "      [1, 3, 2, 1, 1]])\n",
    "\n",
    "print(A, type(A))"
   ]
  },
  {
   "cell_type": "code",
   "execution_count": null,
   "metadata": {},
   "outputs": [],
   "source": []
  }
 ],
 "metadata": {
  "kernelspec": {
   "display_name": "Python 3",
   "language": "python",
   "name": "python3"
  },
  "language_info": {
   "codemirror_mode": {
    "name": "ipython",
    "version": 3
   },
   "file_extension": ".py",
   "mimetype": "text/x-python",
   "name": "python",
   "nbconvert_exporter": "python",
   "pygments_lexer": "ipython3",
   "version": "3.12.3"
  }
 },
 "nbformat": 4,
 "nbformat_minor": 2
}
